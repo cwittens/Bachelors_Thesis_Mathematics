{
 "cells": [
  {
   "cell_type": "markdown",
   "metadata": {},
   "source": [
    "This Jupyter Notebook is used to algebraically calculate the derivative of the coordinates of the point of contact $\\dot{x}_i$."
   ]
  },
  {
   "cell_type": "code",
   "execution_count": 1,
   "metadata": {},
   "outputs": [],
   "source": [
    "\n",
    "from sympy import *\n",
    "# Define the variables\n",
    "t = symbols('t')\n",
    "\n",
    "# winkel\n",
    "alpha = Function('alpha')(t)\n",
    "beta = Function('beta')(t)\n",
    "gamma = Function('gamma')(t)\n",
    "\n",
    "# winkelgeschwindigkeiten\n",
    "w1 = Function('omega_1')(t)\n",
    "w2 = Function('omega_2')(t)\n",
    "w3 = Function('omega_3')(t)\n",
    "\n",
    "# ellipsoid parameters\n",
    "a, b, c = symbols('a b c')\n",
    "\n",
    "# define variables wich depend on the previous ones\n",
    "mu1 = cos(alpha)*sin(beta)\n",
    "mu2 = -sin(alpha)\n",
    "mu3 = -cos(alpha)*cos(beta)\n",
    "\n",
    "p = sqrt((a*mu1)**2 + (b*mu2)**2 + (c*mu3)**2)\n",
    "\n",
    "# coordinates of the point A (Auflagepunkt)\n",
    "x1 = a**2 * mu1/p\n",
    "x2 = b**2 * mu2/p\n",
    "x3 = c**2 * mu3/p\n",
    "\n",
    "\n"
   ]
  },
  {
   "cell_type": "markdown",
   "metadata": {},
   "source": [
    "\n",
    "As Julia uses a slightly different notation then Python, one needs to substitute \"\\*\\*\" with \"\\^\"."
   ]
  },
  {
   "cell_type": "code",
   "execution_count": 2,
   "metadata": {},
   "outputs": [
    {
     "name": "stdout",
     "output_type": "stream",
     "text": [
      "a^2*(alpha_dot*b^2*mu2*sin(beta) + b^2*beta_dot*mu3*cos(alpha)^2 + b^2*beta_dot*cos(alpha)*cos(beta) + beta_dot*c^2*cos(alpha)^3*cos(beta))/p_x^3\n"
     ]
    }
   ],
   "source": [
    "x1_dot = simplify(diff(x1, t))\n",
    "x1_dot = x1_dot.subs(sqrt((a*mu1)**2 + (b*mu2)**2 + (c*mu3)**2), symbols('p_x'))\n",
    "x1_dot = x1_dot.subs(cos(alpha)*sin(beta), symbols('mu1'))\n",
    "x1_dot = x1_dot.subs(-sin(alpha), symbols('mu2'))\n",
    "x1_dot = x1_dot.subs(-cos(alpha)*cos(beta), symbols('mu3'))\n",
    "x1_dot = x1_dot.subs(diff(alpha, t), symbols(r\"alpha_dot\"))\n",
    "x1_dot = x1_dot.subs(diff(beta, t), symbols(r\"beta_dot\"))\n",
    "x1_dot = x1_dot.subs(alpha, symbols(r\"alpha\"))\n",
    "x1_dot = x1_dot.subs(beta, symbols(r\"beta\"))\n",
    "\n",
    "x1_dot_str = str(x1_dot).replace('**', '^')\n",
    "print(x1_dot_str)"
   ]
  },
  {
   "cell_type": "code",
   "execution_count": 3,
   "metadata": {},
   "outputs": [
    {
     "name": "stdout",
     "output_type": "stream",
     "text": [
      "b^2*(4*a^2*alpha_dot*cos(2*beta) - 4*a^2*alpha_dot + a^2*beta_dot*cos(2*alpha - 2*beta) - a^2*beta_dot*cos(2*alpha + 2*beta) - 4*alpha_dot*c^2*cos(2*beta) - 4*alpha_dot*c^2 - beta_dot*c^2*cos(2*alpha - 2*beta) + beta_dot*c^2*cos(2*alpha + 2*beta))*cos(alpha)/(8*p_x^3)\n"
     ]
    }
   ],
   "source": [
    "x2_dot = simplify(diff(x2, t))\n",
    "x2_dot = x2_dot.subs(sqrt((a*mu1)**2 + (b*mu2)**2 + (c*mu3)**2), symbols('p_x'))\n",
    "x2_dot = x2_dot.subs(cos(alpha)*sin(beta), symbols('mu1'))\n",
    "x2_dot = x2_dot.subs(-sin(alpha), symbols('mu2'))\n",
    "x2_dot = x2_dot.subs(-cos(alpha)*cos(beta), symbols('mu3'))\n",
    "x2_dot = x2_dot.subs(diff(alpha, t), symbols(r\"alpha_dot\"))\n",
    "x2_dot = x2_dot.subs(diff(beta, t), symbols(r\"beta_dot\"))\n",
    "x2_dot = x2_dot.subs(alpha, symbols(r\"alpha\"))\n",
    "x2_dot = x2_dot.subs(beta, symbols(r\"beta\"))\n",
    "\n",
    "x2_dot_str = str(x2_dot).replace('**', '^')\n",
    "print(x2_dot_str)"
   ]
  },
  {
   "cell_type": "code",
   "execution_count": 4,
   "metadata": {},
   "outputs": [
    {
     "name": "stdout",
     "output_type": "stream",
     "text": [
      "c^2*(a^2*beta_dot*mu1*cos(alpha)^2 + alpha_dot*b^2*sin(alpha)*cos(beta) - b^2*beta_dot*mu1*cos(alpha)^2 + b^2*beta_dot*mu1)/p_x^3\n"
     ]
    }
   ],
   "source": [
    "x3_dot = simplify(diff(x3, t))\n",
    "x3_dot = x3_dot.subs(sqrt((a*mu1)**2 + (b*mu2)**2 + (c*mu3)**2), symbols('p_x'))\n",
    "x3_dot = x3_dot.subs(cos(alpha)*sin(beta), symbols('mu1'))\n",
    "x3_dot = x3_dot.subs(-sin(alpha), symbols('mu2'))\n",
    "x3_dot = x3_dot.subs(-cos(alpha)*cos(beta), symbols('mu3'))\n",
    "x3_dot = x3_dot.subs(diff(alpha, t), symbols(r\"alpha_dot\"))\n",
    "x3_dot = x3_dot.subs(diff(beta, t), symbols(r\"beta_dot\"))\n",
    "x3_dot = x3_dot.subs(alpha, symbols(r\"alpha\"))\n",
    "x3_dot = x3_dot.subs(beta, symbols(r\"beta\"))\n",
    "\n",
    "x3_dot_str = str(x3_dot).replace('**', '^')\n",
    "print(x3_dot_str)"
   ]
  }
 ],
 "metadata": {
  "kernelspec": {
   "display_name": "Python 3",
   "language": "python",
   "name": "python3"
  },
  "language_info": {
   "codemirror_mode": {
    "name": "ipython",
    "version": 3
   },
   "file_extension": ".py",
   "mimetype": "text/x-python",
   "name": "python",
   "nbconvert_exporter": "python",
   "pygments_lexer": "ipython3",
   "version": "3.12.3"
  }
 },
 "nbformat": 4,
 "nbformat_minor": 2
}
