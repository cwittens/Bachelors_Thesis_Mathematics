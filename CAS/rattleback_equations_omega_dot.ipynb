{
 "cells": [
  {
   "cell_type": "markdown",
   "metadata": {},
   "source": [
    "This Jupyter Notebook is used to algebraically calculate the derivative of the angular velocities $\\dot{\\omega}_i$. \n",
    "\n",
    "The same was done in the Mathematica Notebook *rattleback_equations_omega_dot.nb*, but the resulting equations where not quite as numerically stable. "
   ]
  },
  {
   "cell_type": "code",
   "execution_count": 1,
   "metadata": {},
   "outputs": [],
   "source": [
    "from sympy import *\n",
    "\n",
    "# Define variables\n",
    "m, g, h, alpha, beta = symbols('m g h alpha beta')\n",
    "x1, x2, x3 = symbols('x1 x2 x3')\n",
    "k1, k2, k3 = symbols('k1 k2 k3')\n",
    "\n",
    "# ellipsoid parameters\n",
    "a, b, c = symbols('a b c')\n",
    "# abstand vom voll ellipsoidmittelpunkt zum schwerpunkt\n",
    "h = symbols('h') \n",
    "# Trägheitstensor Einträge\n",
    "A, B, C, F = symbols('A B C F')\n",
    "\n",
    "\n",
    "# Luftreibungskoeffizienten\n",
    "c1, c2, c3 = symbols('c_1 c_2 c_3')\n",
    "\n",
    "w1, w2, w3 = symbols('omega1 omega2 omega3')\n",
    "\n",
    "w1_dot = symbols(r\"\\dot{\\omega}_1\")\n",
    "w2_dot = symbols(r\"\\dot{\\omega}_2\")\n",
    "w3_dot = symbols(r\"\\dot{\\omega}_3\")\n",
    "\n",
    "\n",
    "# Drehmomente\n",
    "N1 = m * (-w1_dot * (x2**2 + (x3 + h)**2) + x1 * (w2_dot * x2 + w3_dot * (x3 + h))\n",
    "          + k3 * x2 - k2 * (x3 + h) - g * ((x3 + h) * sin(alpha) - x2 * cos(alpha) * cos(beta)))\n",
    "\n",
    "N2 = m * (-w2_dot * (x1**2 + (x3 + h)**2) + x2 * (w1_dot * x1 + w3_dot * (x3 + h))\n",
    "          + k1 * (x3 + h) - k3 * x1 - g * cos(alpha) * (x1 * cos(beta) + (x3 + h) * sin(beta)))\n",
    "\n",
    "N3 = m * (-w3_dot * (x1**2 + x2**2) + (x3 + h) * (w1_dot * x1 + w2_dot * x2)\n",
    "          + k2 * x1 - k1 * x2 + g * (x1 * sin(alpha) + x2 * cos(alpha) * sin(beta)))\n",
    "\n",
    "NR1 = - c1 * w1\n",
    "NR2 = - c2 * w2\n",
    "NR3 = - c3 * w3"
   ]
  },
  {
   "cell_type": "code",
   "execution_count": 2,
   "metadata": {},
   "outputs": [],
   "source": [
    "# define the equations\n",
    "eq_17_1 = Eq(N1 + NR1, A * w1_dot - F * w2_dot - (B - C) * w2 * w3 + F * w1 * w3)\n",
    "eq_17_2 = Eq(N2 + NR2, B * w2_dot - F * w1_dot - (C - A) * w1 * w3 - F * w2 * w3) \n",
    "eq_17_3 = Eq(N3 + NR3, C * w3_dot - (A - B) * w1 * w2 + F * (w2**2 - w1**2))"
   ]
  },
  {
   "cell_type": "code",
   "execution_count": 3,
   "metadata": {},
   "outputs": [
    {
     "data": {
      "text/latex": [
       "$\\displaystyle \\frac{A \\omega_{1} \\omega_{2} - B \\omega_{1} \\omega_{2} + F \\omega_{1}^{2} - F \\omega_{2}^{2} + \\dot{\\omega}_1 h m x_{1} + \\dot{\\omega}_1 m x_{1} x_{3} + \\dot{\\omega}_2 h m x_{2} + \\dot{\\omega}_2 m x_{2} x_{3} - c_{3} \\omega_{3} + g m x_{1} \\sin{\\left(\\alpha \\right)} + g m x_{2} \\sin{\\left(\\beta \\right)} \\cos{\\left(\\alpha \\right)} - k_{1} m x_{2} + k_{2} m x_{1}}{C + m x_{1}^{2} + m x_{2}^{2}}$"
      ],
      "text/plain": [
       "(A*omega1*omega2 - B*omega1*omega2 + F*omega1**2 - F*omega2**2 + \\dot{\\omega}_1*h*m*x1 + \\dot{\\omega}_1*m*x1*x3 + \\dot{\\omega}_2*h*m*x2 + \\dot{\\omega}_2*m*x2*x3 - c_3*omega3 + g*m*x1*sin(alpha) + g*m*x2*sin(beta)*cos(alpha) - k1*m*x2 + k2*m*x1)/(C + m*x1**2 + m*x2**2)"
      ]
     },
     "execution_count": 3,
     "metadata": {},
     "output_type": "execute_result"
    }
   ],
   "source": [
    "#otherwise it takes too long, so first solve eq_17_3 for w3_dot\n",
    "solution_w3_dot = solve(eq_17_3, w3_dot)\n",
    "solution_w3_dot[0] # = w3_dot"
   ]
  },
  {
   "cell_type": "code",
   "execution_count": 4,
   "metadata": {},
   "outputs": [],
   "source": [
    "# now substitute w3_dot in eq_17_1 and eq_17_2\n",
    "eq_17_1_new = eq_17_1.subs(w3_dot, solution_w3_dot[0])\n",
    "eq_17_2_new = eq_17_2.subs(w3_dot, solution_w3_dot[0])\n",
    "# and solve for w1_dot and w2_dot - takes about 4.5 minutes\n",
    "solution_eq_17 = solve([eq_17_1_new, eq_17_2_new], [w1_dot, w2_dot])"
   ]
  },
  {
   "cell_type": "code",
   "execution_count": 5,
   "metadata": {},
   "outputs": [],
   "source": [
    "# simplyfy the solutions for w1_dot and w2_dot - takes about 2 minutes\n",
    "w1_dot_eq = simplify(solution_eq_17[w1_dot])\n",
    "w2_dot_eq = simplify(solution_eq_17[w2_dot])"
   ]
  },
  {
   "cell_type": "code",
   "execution_count": 6,
   "metadata": {},
   "outputs": [
    {
     "name": "stdout",
     "output_type": "stream",
     "text": [
      "(A*B*h*m*omega1*omega2*x1 + A*B*m*omega1*omega2*x1*x3 - A*C*F*omega1*omega3 - A*C*m*omega1*omega3*x1*x2 + A*F*h*m*omega1*omega2*x2 + A*F*m*omega1*omega2*x2*x3 - A*F*m*omega1*omega3*x1^2 - A*F*m*omega1*omega3*x2^2 + A*h^3*m^2*omega1*omega2*x1 + 3*A*h^2*m^2*omega1*omega2*x1*x3 - A*h^2*m^2*omega1*omega3*x1*x2 + A*h*m^2*omega1*omega2*x1^3 + A*h*m^2*omega1*omega2*x1*x2^2 + 3*A*h*m^2*omega1*omega2*x1*x3^2 - 2*A*h*m^2*omega1*omega3*x1*x2*x3 + A*m^2*omega1*omega2*x1^3*x3 + A*m^2*omega1*omega2*x1*x2^2*x3 + A*m^2*omega1*omega2*x1*x3^3 - A*m^2*omega1*omega3*x1^3*x2 - A*m^2*omega1*omega3*x1*x2^3 - A*m^2*omega1*omega3*x1*x2*x3^2 + B^2*C*omega2*omega3 - B^2*h*m*omega1*omega2*x1 - B^2*m*omega1*omega2*x1*x3 + B^2*m*omega2*omega3*x1^2 + B^2*m*omega2*omega3*x2^2 - B*C^2*omega2*omega3 - B*C*F*omega1*omega3 - B*C*c_1*omega1 - B*C*g*h*m*sin(alpha) + B*C*g*m*x2*cos(alpha)*cos(beta) - B*C*g*m*x3*sin(alpha) + B*C*h^2*m*omega2*omega3 - B*C*h*k2*m + 2*B*C*h*m*omega2*omega3*x3 - B*C*k2*m*x3 + B*C*k3*m*x2 - B*C*m*omega2*omega3*x2^2 + B*C*m*omega2*omega3*x3^2 + B*F*h*m*omega1^2*x1 - B*F*h*m*omega1*omega2*x2 - B*F*h*m*omega2^2*x1 + B*F*m*omega1^2*x1*x3 - B*F*m*omega1*omega2*x2*x3 - B*F*m*omega1*omega3*x1^2 - B*F*m*omega1*omega3*x2^2 - B*F*m*omega2^2*x1*x3 - B*c_1*m*omega1*x1^2 - B*c_1*m*omega1*x2^2 - B*c_3*h*m*omega3*x1 - B*c_3*m*omega3*x1*x3 + B*g*h*m^2*x1*x2*sin(beta)*cos(alpha) - B*g*h*m^2*x2^2*sin(alpha) + B*g*m^2*x1^2*x2*cos(alpha)*cos(beta) + B*g*m^2*x1*x2*x3*sin(beta)*cos(alpha) + B*g*m^2*x2^3*cos(alpha)*cos(beta) - B*g*m^2*x2^2*x3*sin(alpha) - B*h^3*m^2*omega1*omega2*x1 - 3*B*h^2*m^2*omega1*omega2*x1*x3 + B*h^2*m^2*omega2*omega3*x1^2 - B*h*k1*m^2*x1*x2 - B*h*k2*m^2*x2^2 - B*h*m^2*omega1*omega2*x1^3 - B*h*m^2*omega1*omega2*x1*x2^2 - 3*B*h*m^2*omega1*omega2*x1*x3^2 + 2*B*h*m^2*omega2*omega3*x1^2*x3 - B*k1*m^2*x1*x2*x3 - B*k2*m^2*x2^2*x3 + B*k3*m^2*x1^2*x2 + B*k3*m^2*x2^3 - B*m^2*omega1*omega2*x1^3*x3 - B*m^2*omega1*omega2*x1*x2^2*x3 - B*m^2*omega1*omega2*x1*x3^3 + B*m^2*omega2*omega3*x1^4 + B*m^2*omega2*omega3*x1^2*x2^2 + B*m^2*omega2*omega3*x1^2*x3^2 + C^2*F*omega1*omega3 - C^2*h^2*m*omega2*omega3 - 2*C^2*h*m*omega2*omega3*x3 + C^2*m*omega1*omega3*x1*x2 - C^2*m*omega2*omega3*x1^2 - C^2*m*omega2*omega3*x3^2 + C*F^2*omega2*omega3 - C*F*c_2*omega2 - C*F*g*h*m*sin(beta)*cos(alpha) - C*F*g*m*x1*cos(alpha)*cos(beta) - C*F*g*m*x3*sin(beta)*cos(alpha) - C*F*h^2*m*omega1*omega3 + C*F*h*k1*m - 2*C*F*h*m*omega1*omega3*x3 + C*F*k1*m*x3 - C*F*k3*m*x1 + C*F*m*omega1*omega3*x2^2 - C*F*m*omega1*omega3*x3^2 + C*F*m*omega2*omega3*x1*x2 - C*c_1*h^2*m*omega1 - 2*C*c_1*h*m*omega1*x3 - C*c_1*m*omega1*x1^2 - C*c_1*m*omega1*x3^2 - C*c_2*m*omega2*x1*x2 - C*g*h^3*m^2*sin(alpha) + C*g*h^2*m^2*x2*cos(alpha)*cos(beta) - 3*C*g*h^2*m^2*x3*sin(alpha) - C*g*h*m^2*x1^2*sin(alpha) - C*g*h*m^2*x1*x2*sin(beta)*cos(alpha) + 2*C*g*h*m^2*x2*x3*cos(alpha)*cos(beta) - 3*C*g*h*m^2*x3^2*sin(alpha) - C*g*m^2*x1^2*x3*sin(alpha) - C*g*m^2*x1*x2*x3*sin(beta)*cos(alpha) + C*g*m^2*x2*x3^2*cos(alpha)*cos(beta) - C*g*m^2*x3^3*sin(alpha) - C*h^3*k2*m^2 - 3*C*h^2*k2*m^2*x3 + C*h^2*k3*m^2*x2 + C*h^2*m^2*omega1*omega3*x1*x2 - C*h^2*m^2*omega2*omega3*x1^2 + C*h*k1*m^2*x1*x2 - C*h*k2*m^2*x1^2 - 3*C*h*k2*m^2*x3^2 + 2*C*h*k3*m^2*x2*x3 + 2*C*h*m^2*omega1*omega3*x1*x2*x3 - 2*C*h*m^2*omega2*omega3*x1^2*x3 + C*k1*m^2*x1*x2*x3 - C*k2*m^2*x1^2*x3 - C*k2*m^2*x3^3 + C*k3*m^2*x2*x3^2 + C*m^2*omega1*omega3*x1^3*x2 + C*m^2*omega1*omega3*x1*x2^3 + C*m^2*omega1*omega3*x1*x2*x3^2 - C*m^2*omega2*omega3*x1^4 - C*m^2*omega2*omega3*x1^2*x2^2 - C*m^2*omega2*omega3*x1^2*x3^2 + F^2*h*m*omega1^2*x2 - F^2*h*m*omega2^2*x2 + F^2*m*omega1^2*x2*x3 - F^2*m*omega2^2*x2*x3 + F^2*m*omega2*omega3*x1^2 + F^2*m*omega2*omega3*x2^2 - F*c_2*m*omega2*x1^2 - F*c_2*m*omega2*x2^2 - F*c_3*h*m*omega3*x2 - F*c_3*m*omega3*x2*x3 - F*g*h*m^2*x1^2*sin(beta)*cos(alpha) + F*g*h*m^2*x1*x2*sin(alpha) - F*g*m^2*x1^3*cos(alpha)*cos(beta) - F*g*m^2*x1^2*x3*sin(beta)*cos(alpha) - F*g*m^2*x1*x2^2*cos(alpha)*cos(beta) + F*g*m^2*x1*x2*x3*sin(alpha) + F*h^3*m^2*omega1^2*x1 - F*h^3*m^2*omega2^2*x1 + 3*F*h^2*m^2*omega1^2*x1*x3 - F*h^2*m^2*omega1*omega3*x1^2 - 3*F*h^2*m^2*omega2^2*x1*x3 + F*h^2*m^2*omega2*omega3*x1*x2 + F*h*k1*m^2*x1^2 + F*h*k2*m^2*x1*x2 + F*h*m^2*omega1^2*x1^3 + F*h*m^2*omega1^2*x1*x2^2 + 3*F*h*m^2*omega1^2*x1*x3^2 - 2*F*h*m^2*omega1*omega3*x1^2*x3 - F*h*m^2*omega2^2*x1^3 - F*h*m^2*omega2^2*x1*x2^2 - 3*F*h*m^2*omega2^2*x1*x3^2 + 2*F*h*m^2*omega2*omega3*x1*x2*x3 + F*k1*m^2*x1^2*x3 + F*k2*m^2*x1*x2*x3 - F*k3*m^2*x1^3 - F*k3*m^2*x1*x2^2 + F*m^2*omega1^2*x1^3*x3 + F*m^2*omega1^2*x1*x2^2*x3 + F*m^2*omega1^2*x1*x3^3 - F*m^2*omega1*omega3*x1^4 - F*m^2*omega1*omega3*x1^2*x2^2 - F*m^2*omega1*omega3*x1^2*x3^2 - F*m^2*omega2^2*x1^3*x3 - F*m^2*omega2^2*x1*x2^2*x3 - F*m^2*omega2^2*x1*x3^3 + F*m^2*omega2*omega3*x1^3*x2 + F*m^2*omega2*omega3*x1*x2^3 + F*m^2*omega2*omega3*x1*x2*x3^2 - c_1*h^2*m^2*omega1*x1^2 - 2*c_1*h*m^2*omega1*x1^2*x3 - c_1*m^2*omega1*x1^4 - c_1*m^2*omega1*x1^2*x2^2 - c_1*m^2*omega1*x1^2*x3^2 - c_2*h^2*m^2*omega2*x1*x2 - 2*c_2*h*m^2*omega2*x1*x2*x3 - c_2*m^2*omega2*x1^3*x2 - c_2*m^2*omega2*x1*x2^3 - c_2*m^2*omega2*x1*x2*x3^2 - c_3*h^3*m^2*omega3*x1 - 3*c_3*h^2*m^2*omega3*x1*x3 - c_3*h*m^2*omega3*x1^3 - c_3*h*m^2*omega3*x1*x2^2 - 3*c_3*h*m^2*omega3*x1*x3^2 - c_3*m^2*omega3*x1^3*x3 - c_3*m^2*omega3*x1*x2^2*x3 - c_3*m^2*omega3*x1*x3^3)/(A*B*C + A*B*m*x1^2 + A*B*m*x2^2 + A*C*h^2*m + 2*A*C*h*m*x3 + A*C*m*x1^2 + A*C*m*x3^2 + A*h^2*m^2*x1^2 + 2*A*h*m^2*x1^2*x3 + A*m^2*x1^4 + A*m^2*x1^2*x2^2 + A*m^2*x1^2*x3^2 + B*C*h^2*m + 2*B*C*h*m*x3 + B*C*m*x2^2 + B*C*m*x3^2 + B*h^2*m^2*x2^2 + 2*B*h*m^2*x2^2*x3 + B*m^2*x1^2*x2^2 + B*m^2*x2^4 + B*m^2*x2^2*x3^2 - C*F^2 - 2*C*F*m*x1*x2 + C*h^4*m^2 + 4*C*h^3*m^2*x3 + C*h^2*m^2*x1^2 + C*h^2*m^2*x2^2 + 6*C*h^2*m^2*x3^2 + 2*C*h*m^2*x1^2*x3 + 2*C*h*m^2*x2^2*x3 + 4*C*h*m^2*x3^3 + C*m^2*x1^2*x3^2 + C*m^2*x2^2*x3^2 + C*m^2*x3^4 - F^2*m*x1^2 - F^2*m*x2^2 - 2*F*h^2*m^2*x1*x2 - 4*F*h*m^2*x1*x2*x3 - 2*F*m^2*x1^3*x2 - 2*F*m^2*x1*x2^3 - 2*F*m^2*x1*x2*x3^2)\n"
     ]
    }
   ],
   "source": [
    "w1_dot_string =str(w1_dot_eq).replace(\"**\", \"^\")\n",
    "print(w1_dot_string)"
   ]
  },
  {
   "cell_type": "code",
   "execution_count": 7,
   "metadata": {},
   "outputs": [
    {
     "name": "stdout",
     "output_type": "stream",
     "text": [
      "(-A^2*C*omega1*omega3 + A^2*h*m*omega1*omega2*x2 + A^2*m*omega1*omega2*x2*x3 - A^2*m*omega1*omega3*x1^2 - A^2*m*omega1*omega3*x2^2 - A*B*h*m*omega1*omega2*x2 - A*B*m*omega1*omega2*x2*x3 + A*C^2*omega1*omega3 + A*C*F*omega2*omega3 - A*C*c_2*omega2 - A*C*g*h*m*sin(beta)*cos(alpha) - A*C*g*m*x1*cos(alpha)*cos(beta) - A*C*g*m*x3*sin(beta)*cos(alpha) - A*C*h^2*m*omega1*omega3 + A*C*h*k1*m - 2*A*C*h*m*omega1*omega3*x3 + A*C*k1*m*x3 - A*C*k3*m*x1 + A*C*m*omega1*omega3*x1^2 - A*C*m*omega1*omega3*x3^2 + A*F*h*m*omega1^2*x2 + A*F*h*m*omega1*omega2*x1 - A*F*h*m*omega2^2*x2 + A*F*m*omega1^2*x2*x3 + A*F*m*omega1*omega2*x1*x3 - A*F*m*omega2^2*x2*x3 + A*F*m*omega2*omega3*x1^2 + A*F*m*omega2*omega3*x2^2 - A*c_2*m*omega2*x1^2 - A*c_2*m*omega2*x2^2 - A*c_3*h*m*omega3*x2 - A*c_3*m*omega3*x2*x3 - A*g*h*m^2*x1^2*sin(beta)*cos(alpha) + A*g*h*m^2*x1*x2*sin(alpha) - A*g*m^2*x1^3*cos(alpha)*cos(beta) - A*g*m^2*x1^2*x3*sin(beta)*cos(alpha) - A*g*m^2*x1*x2^2*cos(alpha)*cos(beta) + A*g*m^2*x1*x2*x3*sin(alpha) + A*h^3*m^2*omega1*omega2*x2 + 3*A*h^2*m^2*omega1*omega2*x2*x3 - A*h^2*m^2*omega1*omega3*x2^2 + A*h*k1*m^2*x1^2 + A*h*k2*m^2*x1*x2 + A*h*m^2*omega1*omega2*x1^2*x2 + A*h*m^2*omega1*omega2*x2^3 + 3*A*h*m^2*omega1*omega2*x2*x3^2 - 2*A*h*m^2*omega1*omega3*x2^2*x3 + A*k1*m^2*x1^2*x3 + A*k2*m^2*x1*x2*x3 - A*k3*m^2*x1^3 - A*k3*m^2*x1*x2^2 + A*m^2*omega1*omega2*x1^2*x2*x3 + A*m^2*omega1*omega2*x2^3*x3 + A*m^2*omega1*omega2*x2*x3^3 - A*m^2*omega1*omega3*x1^2*x2^2 - A*m^2*omega1*omega3*x2^4 - A*m^2*omega1*omega3*x2^2*x3^2 + B*C*F*omega2*omega3 + B*C*m*omega2*omega3*x1*x2 - B*F*h*m*omega1*omega2*x1 - B*F*m*omega1*omega2*x1*x3 + B*F*m*omega2*omega3*x1^2 + B*F*m*omega2*omega3*x2^2 - B*h^3*m^2*omega1*omega2*x2 - 3*B*h^2*m^2*omega1*omega2*x2*x3 + B*h^2*m^2*omega2*omega3*x1*x2 - B*h*m^2*omega1*omega2*x1^2*x2 - B*h*m^2*omega1*omega2*x2^3 - 3*B*h*m^2*omega1*omega2*x2*x3^2 + 2*B*h*m^2*omega2*omega3*x1*x2*x3 - B*m^2*omega1*omega2*x1^2*x2*x3 - B*m^2*omega1*omega2*x2^3*x3 - B*m^2*omega1*omega2*x2*x3^3 + B*m^2*omega2*omega3*x1^3*x2 + B*m^2*omega2*omega3*x1*x2^3 + B*m^2*omega2*omega3*x1*x2*x3^2 - C^2*F*omega2*omega3 + C^2*h^2*m*omega1*omega3 + 2*C^2*h*m*omega1*omega3*x3 + C^2*m*omega1*omega3*x2^2 + C^2*m*omega1*omega3*x3^2 - C^2*m*omega2*omega3*x1*x2 - C*F^2*omega1*omega3 - C*F*c_1*omega1 - C*F*g*h*m*sin(alpha) + C*F*g*m*x2*cos(alpha)*cos(beta) - C*F*g*m*x3*sin(alpha) + C*F*h^2*m*omega2*omega3 - C*F*h*k2*m + 2*C*F*h*m*omega2*omega3*x3 - C*F*k2*m*x3 + C*F*k3*m*x2 - C*F*m*omega1*omega3*x1*x2 - C*F*m*omega2*omega3*x1^2 + C*F*m*omega2*omega3*x3^2 - C*c_1*m*omega1*x1*x2 - C*c_2*h^2*m*omega2 - 2*C*c_2*h*m*omega2*x3 - C*c_2*m*omega2*x2^2 - C*c_2*m*omega2*x3^2 - C*g*h^3*m^2*sin(beta)*cos(alpha) - C*g*h^2*m^2*x1*cos(alpha)*cos(beta) - 3*C*g*h^2*m^2*x3*sin(beta)*cos(alpha) - C*g*h*m^2*x1*x2*sin(alpha) - 2*C*g*h*m^2*x1*x3*cos(alpha)*cos(beta) - C*g*h*m^2*x2^2*sin(beta)*cos(alpha) - 3*C*g*h*m^2*x3^2*sin(beta)*cos(alpha) - C*g*m^2*x1*x2*x3*sin(alpha) - C*g*m^2*x1*x3^2*cos(alpha)*cos(beta) - C*g*m^2*x2^2*x3*sin(beta)*cos(alpha) - C*g*m^2*x3^3*sin(beta)*cos(alpha) + C*h^3*k1*m^2 + 3*C*h^2*k1*m^2*x3 - C*h^2*k3*m^2*x1 + C*h^2*m^2*omega1*omega3*x2^2 - C*h^2*m^2*omega2*omega3*x1*x2 + C*h*k1*m^2*x2^2 + 3*C*h*k1*m^2*x3^2 - C*h*k2*m^2*x1*x2 - 2*C*h*k3*m^2*x1*x3 + 2*C*h*m^2*omega1*omega3*x2^2*x3 - 2*C*h*m^2*omega2*omega3*x1*x2*x3 + C*k1*m^2*x2^2*x3 + C*k1*m^2*x3^3 - C*k2*m^2*x1*x2*x3 - C*k3*m^2*x1*x3^2 + C*m^2*omega1*omega3*x1^2*x2^2 + C*m^2*omega1*omega3*x2^4 + C*m^2*omega1*omega3*x2^2*x3^2 - C*m^2*omega2*omega3*x1^3*x2 - C*m^2*omega2*omega3*x1*x2^3 - C*m^2*omega2*omega3*x1*x2*x3^2 + F^2*h*m*omega1^2*x1 - F^2*h*m*omega2^2*x1 + F^2*m*omega1^2*x1*x3 - F^2*m*omega1*omega3*x1^2 - F^2*m*omega1*omega3*x2^2 - F^2*m*omega2^2*x1*x3 - F*c_1*m*omega1*x1^2 - F*c_1*m*omega1*x2^2 - F*c_3*h*m*omega3*x1 - F*c_3*m*omega3*x1*x3 + F*g*h*m^2*x1*x2*sin(beta)*cos(alpha) - F*g*h*m^2*x2^2*sin(alpha) + F*g*m^2*x1^2*x2*cos(alpha)*cos(beta) + F*g*m^2*x1*x2*x3*sin(beta)*cos(alpha) + F*g*m^2*x2^3*cos(alpha)*cos(beta) - F*g*m^2*x2^2*x3*sin(alpha) + F*h^3*m^2*omega1^2*x2 - F*h^3*m^2*omega2^2*x2 + 3*F*h^2*m^2*omega1^2*x2*x3 - F*h^2*m^2*omega1*omega3*x1*x2 - 3*F*h^2*m^2*omega2^2*x2*x3 + F*h^2*m^2*omega2*omega3*x2^2 - F*h*k1*m^2*x1*x2 - F*h*k2*m^2*x2^2 + F*h*m^2*omega1^2*x1^2*x2 + F*h*m^2*omega1^2*x2^3 + 3*F*h*m^2*omega1^2*x2*x3^2 - 2*F*h*m^2*omega1*omega3*x1*x2*x3 - F*h*m^2*omega2^2*x1^2*x2 - F*h*m^2*omega2^2*x2^3 - 3*F*h*m^2*omega2^2*x2*x3^2 + 2*F*h*m^2*omega2*omega3*x2^2*x3 - F*k1*m^2*x1*x2*x3 - F*k2*m^2*x2^2*x3 + F*k3*m^2*x1^2*x2 + F*k3*m^2*x2^3 + F*m^2*omega1^2*x1^2*x2*x3 + F*m^2*omega1^2*x2^3*x3 + F*m^2*omega1^2*x2*x3^3 - F*m^2*omega1*omega3*x1^3*x2 - F*m^2*omega1*omega3*x1*x2^3 - F*m^2*omega1*omega3*x1*x2*x3^2 - F*m^2*omega2^2*x1^2*x2*x3 - F*m^2*omega2^2*x2^3*x3 - F*m^2*omega2^2*x2*x3^3 + F*m^2*omega2*omega3*x1^2*x2^2 + F*m^2*omega2*omega3*x2^4 + F*m^2*omega2*omega3*x2^2*x3^2 - c_1*h^2*m^2*omega1*x1*x2 - 2*c_1*h*m^2*omega1*x1*x2*x3 - c_1*m^2*omega1*x1^3*x2 - c_1*m^2*omega1*x1*x2^3 - c_1*m^2*omega1*x1*x2*x3^2 - c_2*h^2*m^2*omega2*x2^2 - 2*c_2*h*m^2*omega2*x2^2*x3 - c_2*m^2*omega2*x1^2*x2^2 - c_2*m^2*omega2*x2^4 - c_2*m^2*omega2*x2^2*x3^2 - c_3*h^3*m^2*omega3*x2 - 3*c_3*h^2*m^2*omega3*x2*x3 - c_3*h*m^2*omega3*x1^2*x2 - c_3*h*m^2*omega3*x2^3 - 3*c_3*h*m^2*omega3*x2*x3^2 - c_3*m^2*omega3*x1^2*x2*x3 - c_3*m^2*omega3*x2^3*x3 - c_3*m^2*omega3*x2*x3^3)/(A*B*C + A*B*m*x1^2 + A*B*m*x2^2 + A*C*h^2*m + 2*A*C*h*m*x3 + A*C*m*x1^2 + A*C*m*x3^2 + A*h^2*m^2*x1^2 + 2*A*h*m^2*x1^2*x3 + A*m^2*x1^4 + A*m^2*x1^2*x2^2 + A*m^2*x1^2*x3^2 + B*C*h^2*m + 2*B*C*h*m*x3 + B*C*m*x2^2 + B*C*m*x3^2 + B*h^2*m^2*x2^2 + 2*B*h*m^2*x2^2*x3 + B*m^2*x1^2*x2^2 + B*m^2*x2^4 + B*m^2*x2^2*x3^2 - C*F^2 - 2*C*F*m*x1*x2 + C*h^4*m^2 + 4*C*h^3*m^2*x3 + C*h^2*m^2*x1^2 + C*h^2*m^2*x2^2 + 6*C*h^2*m^2*x3^2 + 2*C*h*m^2*x1^2*x3 + 2*C*h*m^2*x2^2*x3 + 4*C*h*m^2*x3^3 + C*m^2*x1^2*x3^2 + C*m^2*x2^2*x3^2 + C*m^2*x3^4 - F^2*m*x1^2 - F^2*m*x2^2 - 2*F*h^2*m^2*x1*x2 - 4*F*h*m^2*x1*x2*x3 - 2*F*m^2*x1^3*x2 - 2*F*m^2*x1*x2^3 - 2*F*m^2*x1*x2*x3^2)\n"
     ]
    }
   ],
   "source": [
    "w2_dot_string =str(w2_dot_eq).replace(\"**\", \"^\")\n",
    "print(w2_dot_string)"
   ]
  },
  {
   "cell_type": "code",
   "execution_count": 8,
   "metadata": {},
   "outputs": [
    {
     "name": "stdout",
     "output_type": "stream",
     "text": [
      "(A*omega1*omega2 - B*omega1*omega2 + F*omega1^2 - F*omega2^2 - c_3*omega3 + g*m*x1*sin(alpha) + g*m*x2*sin(beta)*cos(alpha) + h*m*omega1_dot*x1 + h*m*omega2_dot*x2 - k1*m*x2 + k2*m*x1 + m*omega1_dot*x1*x3 + m*omega2_dot*x2*x3)/(C + m*x1^2 + m*x2^2)\n"
     ]
    }
   ],
   "source": [
    "# calculate w3_dot in dependens of w1_dot and w2_dot \n",
    "w3_dot_eq = solution_w3_dot[0].subs(w1_dot, symbols(\"omega1_dot\")).subs(w2_dot, symbols(\"omega2_dot\"))\n",
    "w3_dot_string =str(w3_dot_eq).replace(\"**\", \"^\")\n",
    "print(w3_dot_string)"
   ]
  },
  {
   "cell_type": "code",
   "execution_count": 9,
   "metadata": {},
   "outputs": [
    {
     "data": {
      "text/latex": [
       "$\\displaystyle \\dot{\\alpha} \\sin{\\left(\\beta \\right)} + \\dot{\\gamma} \\cos{\\left(\\alpha \\right)} \\cos{\\left(\\beta \\right)}$"
      ],
      "text/plain": [
       "\\dot{\\alpha}*sin(beta) + \\dot{\\gamma}*cos(alpha)*cos(beta)"
      ]
     },
     "execution_count": 9,
     "metadata": {},
     "output_type": "execute_result"
    }
   ],
   "source": [
    "# this was used to check if the system of equations going from the derivative of the angles to derivative of the angular velocities (from Wackelstein_1.pdf) is correct\n",
    "# it is not concerned with the calculation of the derivative of the angular velocities\n",
    "\n",
    "eq1 = Eq((-w1*sin(beta)+w3*cos(beta))/cos(alpha), symbols(r\"\\dot{\\gamma}\"))\n",
    "eq2 = Eq(w1*cos(beta)+w3*sin(beta), symbols(r\"\\dot{\\alpha}\"))\n",
    "eq3 = Eq(w2 + (w1*sin(beta) - w3*cos(beta))*tan(alpha), symbols(r\"\\dot{\\beta}\"))\n",
    "\n",
    "solution = solve([eq1, eq2, eq3], [w1, w2, w3])\n",
    "simplify(solution[w3])\n",
    "\n",
    "\n",
    "# checks out!"
   ]
  }
 ],
 "metadata": {
  "kernelspec": {
   "display_name": "Python 3",
   "language": "python",
   "name": "python3"
  },
  "language_info": {
   "codemirror_mode": {
    "name": "ipython",
    "version": 3
   },
   "file_extension": ".py",
   "mimetype": "text/x-python",
   "name": "python",
   "nbconvert_exporter": "python",
   "pygments_lexer": "ipython3",
   "version": "3.12.3"
  }
 },
 "nbformat": 4,
 "nbformat_minor": 2
}
